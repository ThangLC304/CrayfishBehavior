{
 "cells": [
  {
   "cell_type": "code",
   "execution_count": null,
   "metadata": {},
   "outputs": [],
   "source": [
    "import pandas as pd\n",
    "import numpy as np\n",
    "import math\n",
    "import matplotlib.pyplot as plt\n",
    "import seaborn as sns\n",
    "import json\n",
    "import os\n",
    "from Libs.functions import *\n"
   ]
  },
  {
   "attachments": {},
   "cell_type": "markdown",
   "metadata": {},
   "source": [
    "# RUN CELL BELOW TO SELECT EXCEL FILE"
   ]
  },
  {
   "cell_type": "code",
   "execution_count": null,
   "metadata": {},
   "outputs": [],
   "source": [
    "# open window to select file\n",
    "from tkinter import Tk\n",
    "from tkinter.filedialog import askopenfilename\n",
    "\n",
    "root = Tk()\n",
    "\n",
    "dir_path = os.path.dirname(os.path.realpath('main.ipynb'))\n",
    "initial_dir = os.path.join(dir_path, 'Input')\n",
    "data_path = askopenfilename(initialdir=initial_dir, title='Select file', filetypes=[('all files', '.*'), ('csv files', '.csv'), ('excel files', '.xlsx')])\n",
    "\n",
    "root.destroy()\n",
    "\n",
    "print(f'File selected: {data_path}')\n",
    "\n",
    "DATA_NAME = os.path.basename(data_path)\n"
   ]
  },
  {
   "cell_type": "code",
   "execution_count": null,
   "metadata": {},
   "outputs": [],
   "source": [
    "# DATA PATH\n",
    "EXCEL_PATH = data_path"
   ]
  },
  {
   "cell_type": "code",
   "execution_count": null,
   "metadata": {},
   "outputs": [],
   "source": [
    "# # GIVEN PARAMETERS (From ImageJ)\n",
    "# CONVERSION_RATE = 14.3\n",
    "# CENTER_X = 327\n",
    "# CENTER_Y = 258\n",
    "# FPS = 30\n",
    "# DURATION = 600\n",
    "\n",
    "# # DEFINED PARAMETERS\n",
    "\n",
    "# # Define ExtendedClaw threshold for s1 and s2\n",
    "# EC_THRESHOLD = 3\n",
    "\n",
    "# # Define speed threshold for s3 and s4\n",
    "# SPEED_THRESHOLD_1 = 1\n",
    "# SPEED_THRESHOLD_2 = 5\n",
    "\n",
    "# # Define interaction threshold for s5\n",
    "# INTERACTION_THRESHOLD = 3\n",
    "\n",
    "# # Define fighting threshold for s6\n",
    "# FIGHTING_THRESHOLD = 3\n",
    "\n",
    "# # Define chasing threshold for s7 and s8\n",
    "# CHASING_THRESHOLD = 3\n"
   ]
  },
  {
   "cell_type": "code",
   "execution_count": null,
   "metadata": {},
   "outputs": [],
   "source": [
    "# import parameters from parameters.json\n",
    "PARAMS_PATH = 'Bin/parameters.json'\n",
    "def load_params():\n",
    "    with open(PARAMS_PATH) as f:\n",
    "        params = json.load(f)\n",
    "    # change value type of params from string to int or float\n",
    "    for key in params:\n",
    "        if '.' in params[key]:\n",
    "            params[key] = float(params[key])\n",
    "        else:\n",
    "            params[key] = int(params[key])\n",
    "    return params\n",
    "\n",
    "params = load_params()\n"
   ]
  },
  {
   "cell_type": "markdown",
   "metadata": {},
   "source": [
    "# RUN THE CELLS BELOW TO GET THE DATA"
   ]
  },
  {
   "cell_type": "code",
   "execution_count": null,
   "metadata": {},
   "outputs": [],
   "source": [
    "# import xlsx file, sheet = \"raw\"\n",
    "df = pd.read_excel(EXCEL_PATH)\n",
    "\n",
    "df.head()\n"
   ]
  },
  {
   "cell_type": "code",
   "execution_count": null,
   "metadata": {},
   "outputs": [],
   "source": [
    "CF1, CF2 = load_df(df)\n",
    "\n"
   ]
  },
  {
   "cell_type": "code",
   "execution_count": null,
   "metadata": {},
   "outputs": [],
   "source": [
    "if len(CF1) == len(CF2):\n",
    "    FRAMES = len(CF1)\n",
    "else:\n",
    "    print('Error: CF1 and CF2 have different length')\n",
    "    raise ValueError"
   ]
  },
  {
   "cell_type": "code",
   "execution_count": null,
   "metadata": {},
   "outputs": [],
   "source": []
  },
  {
   "attachments": {},
   "cell_type": "markdown",
   "metadata": {},
   "source": [
    "### 1. PINCERS - EXTENDED CLAW (EC) ANALYSIS"
   ]
  },
  {
   "cell_type": "code",
   "execution_count": null,
   "metadata": {},
   "outputs": [],
   "source": [
    "def cheliped_stat(input_df):\n",
    "    output_dict = {}\n",
    "\n",
    "    output_dict['distance'] = [] # distance between chelipeds in centimeter\n",
    "    output_dict['EC'] = []  # 1 = EC, 0 = no EC\n",
    "    output_dict['EC event counts'] = [] # each consecutive EC counts as 1 \"EC event\"\n",
    "\n",
    "    # iterate through rows of CF1\n",
    "    for index, row in input_df.iterrows():\n",
    "        # distance=(SQRT((C4-E4)^2+(D4-F4)^2)/$A$4)\n",
    "        distance = math.sqrt((row['LeftPincer_X'] - row['RightPincer_X'])**2 + (row['LeftPincer_Y'] - row['RightPincer_Y'])**2)/params['CONVERSION_RATE']\n",
    "        output_dict['distance'].append(distance)\n",
    "        if distance > params['EC_THRESHOLD']:\n",
    "            output_dict['EC'].append(1)\n",
    "        else:\n",
    "            output_dict['EC'].append(0)\n",
    "        if index == 0 :\n",
    "            output_dict['EC event counts'].append(0)\n",
    "        elif output_dict['EC'][index] == output_dict['EC'][index-1] or output_dict['EC'][index] == 0:\n",
    "            output_dict['EC event counts'].append(0)\n",
    "        else:\n",
    "            output_dict['EC event counts'].append(1)\n",
    "\n",
    "            \n",
    "\n",
    "    output_dict['distance'][:5]\n",
    "\n",
    "    output_dict['avg distance'] = np.mean(output_dict['distance'])\n",
    "\n",
    "    output_dict['closest distance'] = np.min(output_dict['distance'])\n",
    "\n",
    "    output_dict['furthest distance'] = np.max(output_dict['distance'])\n",
    "\n",
    "    output_dict['EC percentage'] = np.sum(output_dict['EC'])/len(output_dict['EC'])*100\n",
    "\n",
    "    output_dict['Total EC event counts'] = int(np.sum(output_dict['EC event counts']))\n",
    "\n",
    "    output_dict['Total EC time'] = int(np.sum(output_dict['EC'])/params['FPS'])   # in seconds\n",
    "\n",
    "    return output_dict"
   ]
  },
  {
   "cell_type": "code",
   "execution_count": null,
   "metadata": {},
   "outputs": [],
   "source": [
    "s1 = cheliped_stat(CF1)\n",
    "s2 = cheliped_stat(CF2)\n"
   ]
  },
  {
   "cell_type": "code",
   "execution_count": null,
   "metadata": {},
   "outputs": [],
   "source": [
    "# print out all keys of s1\n",
    "for key in s1:\n",
    "    print(key)"
   ]
  },
  {
   "cell_type": "code",
   "execution_count": null,
   "metadata": {},
   "outputs": [],
   "source": [
    "units = {\n",
    "    # cheliped_stat\n",
    "    # 'distance': is a list of distances in cm,\n",
    "    # 'EC': is a list of 0 and 1,\n",
    "    # 'EC events': is a dict, with keys are (start,end) frames, values are duration in frames,\n",
    "    'EC event counts': 'times',\n",
    "    'avg distance': 'cm',\n",
    "    'closest distance': 'cm',\n",
    "    'furthest distance': 'cm',\n",
    "    'EC percentage': '%',\n",
    "    'Total EC time': 's',\n",
    "    \n",
    "    # movement_stat\n",
    "    # 'distance': is a list of distance in cm,\n",
    "    # 'speed': is a list of speed in cm/s,\n",
    "    # 'slow movements': is a list of 0 and 1,\n",
    "    # 'medium movements': is a list of 0 and 1,\n",
    "    # 'rapid movements': is a list of 0 and 1,\n",
    "    # 'distance to center': is a list of distance to center in cm,\n",
    "    'total distance': 'cm',\n",
    "    'avg speed': 'cm/s',\n",
    "    'freeze time percentage': '%',\n",
    "    'swimming time percentage': '%',\n",
    "    'rapid movements time percentage': '%',\n",
    "    'avg distance to center': 'cm',\n",
    "    \n",
    "    # interaction_stat\n",
    "    # 'distance': is a list of distances in cm,\n",
    "    # 'interaction': is a list of 0 and 1\n",
    "    # 'avg distance': 'cm',\n",
    "    # 'closest distance': 'cm',\n",
    "    # 'furthest distance': 'cm',\n",
    "    'interactions percentage': '%',\n",
    "    # 'interaction events': is a dict, with keys are (start,end) frames, values are duration in frames\n",
    "    'interaction events percentage': '%',\n",
    "    'longest duration': 's',\n",
    "\n",
    "    # fighting_stat\n",
    "    # 'left side distance': is a list of distance in cm\n",
    "    # 'right side distance': is a list of distance in cm\n",
    "    # 'avg distances': is a list of average distance in cm\n",
    "    # 'fighting' : is a list of 0 and 1\n",
    "    # 'fighting events': is a dict, with keys are (start,end) frames, values are duration in frames\n",
    "    'fighting event counts': 'times',\n",
    "    'fighting time in frames': 'frames',\n",
    "    'fighting time in seconds': 's',\n",
    "    'fighting time percentage': '%',\n",
    "    'longest fighting time in seconds': 's',\n",
    "\n",
    "    # chasing_stat\n",
    "    # 'distance': is a list of distance in cm\n",
    "    # 'chasing' : is a list of 0 and 1\n",
    "    # 'chasing events': is a dict, with keys are (start,end) frames, values are duration in frames\n",
    "    # 'avg distance': 'cm',\n",
    "    # 'closest distance': 'cm',\n",
    "    # 'furthest distance': 'cm',\n",
    "    'chasing duration percentage': '%',\n",
    "    'longest chasing event': 's',\n",
    "}\n",
    "import json\n",
    "save_path = 'units.json'\n",
    "# indent = 4\n",
    "with open(save_path, 'w') as fp:\n",
    "    json.dump(units, fp, indent=4)"
   ]
  },
  {
   "attachments": {},
   "cell_type": "markdown",
   "metadata": {},
   "source": [
    "### 2. ROSTRUM - MOVEMENT ANALYSIS"
   ]
  },
  {
   "cell_type": "code",
   "execution_count": null,
   "metadata": {},
   "outputs": [],
   "source": [
    "def movement_stat(input_df): \n",
    "    output_dict = {}\n",
    "\n",
    "    output_dict['distance'] = []  # Distance between 2 frames in centimeter\n",
    "    output_dict['speed'] = [] # Speed in cm/s\n",
    "    output_dict['Slow Movements'] = [] # Speed < THRESHOLD_1\n",
    "    output_dict['Medium Movements'] = [] # THRESHOLD_1 <= Speed < THRESHOLD_2\n",
    "    output_dict['Rapid Movements'] = [] # Speed >= THRESHOLD_2\n",
    "    output_dict['Distance to Center'] = [] # Distance to center in centimeter (dtc)\n",
    "\n",
    "    # iterate through rows of CF1\n",
    "    for index, row in input_df.iterrows():\n",
    "        # Distance to Center = (SQRT(($A$6-C4)^2+($A$8-D4)^2)/$A$4)\n",
    "        dtc = math.sqrt((params['CENTER_X'] - row['Rostrum_X'])**2 + (params['CENTER_Y'] - row['Rostrum_Y'])**2)/params['CONVERSION_RATE']\n",
    "        output_dict['Distance to Center'].append(dtc)\n",
    "\n",
    "        # Distance=SQRT((C5-C4)^2+(D5-D4)^2)/$A$4\n",
    "        if index == 0:\n",
    "            continue\n",
    "        else:\n",
    "            Distance = math.sqrt((row['Rostrum_X'] - input_df.iloc[index-1]['Rostrum_X'])**2 + (row['Rostrum_Y'] - input_df.iloc[index-1]['Rostrum_Y'])**2)/params['CONVERSION_RATE']\n",
    "        output_dict['distance'].append(Distance)\n",
    "\n",
    "        # Speed=E4*$A$10\n",
    "        Speed = Distance*params['FPS']\n",
    "        output_dict['speed'].append(Speed)\n",
    "\n",
    "        # check for Movements type:\n",
    "        if Speed < params['SPEED_THRESHOLD_1']:\n",
    "            output_dict['Slow Movements'].append(1)\n",
    "            output_dict['Medium Movements'].append(0)\n",
    "            output_dict['Rapid Movements'].append(0)\n",
    "        elif params['SPEED_THRESHOLD_1'] <= Speed < params['SPEED_THRESHOLD_2']:\n",
    "            output_dict['Slow Movements'].append(0)\n",
    "            output_dict['Medium Movements'].append(1)\n",
    "            output_dict['Rapid Movements'].append(0)\n",
    "        else:\n",
    "            output_dict['Slow Movements'].append(0)\n",
    "            output_dict['Medium Movements'].append(0)\n",
    "            output_dict['Rapid Movements'].append(1)\n",
    "\n",
    "    output_dict['Total Distance'] = np.sum(output_dict['distance']) # in cm\n",
    "    output_dict['Avg Speed'] = np.mean(output_dict['speed']) # in cm/s\n",
    "\n",
    "    # time ratio = # of Movements / count (in percentage)\n",
    "    output_dict['Freeze Time Percentage'] = np.sum(output_dict['Slow Movements'])/len(output_dict['Slow Movements'])*100\n",
    "    output_dict['Swimming Time Percentage'] = np.sum(output_dict['Medium Movements'])/len(output_dict['Medium Movements'])*100\n",
    "    output_dict['Rapid Movement Time Percentage'] = np.sum(output_dict['Rapid Movements'])/len(output_dict['Rapid Movements'])*100\n",
    "\n",
    "    # Average distance to center\n",
    "    output_dict['Avg distance to center'] = np.mean(output_dict['Distance to Center'])\n",
    "\n",
    "    return output_dict"
   ]
  },
  {
   "cell_type": "code",
   "execution_count": null,
   "metadata": {},
   "outputs": [],
   "source": [
    "s3 = movement_stat(CF1)\n",
    "s4 = movement_stat(CF2)\n"
   ]
  },
  {
   "cell_type": "code",
   "execution_count": null,
   "metadata": {},
   "outputs": [],
   "source": []
  },
  {
   "cell_type": "code",
   "execution_count": null,
   "metadata": {},
   "outputs": [],
   "source": [
    "len(s3['distance'])"
   ]
  },
  {
   "cell_type": "code",
   "execution_count": null,
   "metadata": {},
   "outputs": [],
   "source": [
    "for key, value in s3.items():\n",
    "    try:\n",
    "        print(key, len(value))\n",
    "    except:\n",
    "        print(key, value)"
   ]
  },
  {
   "attachments": {},
   "cell_type": "markdown",
   "metadata": {},
   "source": [
    "### 3. Interaction time between Crayfishes"
   ]
  },
  {
   "cell_type": "code",
   "execution_count": null,
   "metadata": {},
   "outputs": [],
   "source": [
    "def interaction_stat(input_1, input_2):\n",
    "    inter_cf = {}\n",
    "\n",
    "    # distance=(SQRT((C4-Q4)^2+(D4-R4)^2)/$A$4)\n",
    "    inter_cf['distance'] = []\n",
    "    inter_cf['interactions'] = []\n",
    "\n",
    "    for i in range(len(input_1)):\n",
    "        distance = math.sqrt((input_1['Rostrum_X'][i] - input_2['Rostrum_X'][i])**2 + (input_1['Rostrum_Y'][i] - input_2['Rostrum_Y'][i])**2)/params['CONVERSION_RATE']\n",
    "        inter_cf['distance'].append(distance)\n",
    "        if distance < params['INTERACTION_THRESHOLD']:\n",
    "            inter_cf['interactions'].append(1)\n",
    "        else:\n",
    "            inter_cf['interactions'].append(0)\n",
    "\n",
    "    inter_cf['avg distance'] = np.mean(inter_cf['distance'])\n",
    "\n",
    "    inter_cf['closest distance'] = np.min(inter_cf['distance'])\n",
    "\n",
    "    inter_cf['furthest distance'] = np.max(inter_cf['distance'])\n",
    "\n",
    "    inter_cf['interactions percentage'] = np.sum(inter_cf['interactions'])/len(inter_cf['interactions'])*100\n",
    "\n",
    "    inter_cf['interaction events'] = {}\n",
    "    for i in range(len(inter_cf['interactions'])):\n",
    "        if i == 0:\n",
    "            continue\n",
    "        if inter_cf['interactions'][i] == 1 and inter_cf['interactions'][i-1] == 0:\n",
    "            start_point = i\n",
    "        elif inter_cf['interactions'][i] == 0 and inter_cf['interactions'][i-1] == 1:\n",
    "            end_point = i\n",
    "            inter_cf['interaction events'][(start_point, end_point-1)] = end_point - start_point\n",
    "\n",
    "    # get interaction events percentage of longest duration\n",
    "    longest_duration = max(inter_cf['interaction events'].values())\n",
    "    inter_cf['interaction events percentage'] = longest_duration/len(inter_cf['interactions'])*100\n",
    "\n",
    "    # get longest_duration in seconds\n",
    "    inter_cf['longest duration'] = longest_duration/params['FPS']\n",
    "\n",
    "    return inter_cf\n"
   ]
  },
  {
   "cell_type": "code",
   "execution_count": null,
   "metadata": {},
   "outputs": [],
   "source": [
    "s5 = interaction_stat(CF1, CF2)\n"
   ]
  },
  {
   "cell_type": "code",
   "execution_count": null,
   "metadata": {},
   "outputs": [],
   "source": [
    "s5['interaction events']"
   ]
  },
  {
   "attachments": {},
   "cell_type": "markdown",
   "metadata": {},
   "source": [
    "### 4. Fighting behavior"
   ]
  },
  {
   "cell_type": "code",
   "execution_count": null,
   "metadata": {},
   "outputs": [],
   "source": [
    "# View the interaction in the view of CrayFish1\n",
    "# Measure Pincer distance between 2 crayfishes\n",
    "def fighting_stat(input_1, input_2):\n",
    "    output_dict = {}\n",
    "\n",
    "    output_dict['left side distance'] = []\n",
    "    output_dict['right side distance'] = []\n",
    "    output_dict['avg distance'] = []\n",
    "    output_dict['fighting'] = []\n",
    "    output_dict['fighting events'] = {}\n",
    "\n",
    "    for i in range(len(input_1)):\n",
    "        left_side_distance = math.sqrt((input_1['LeftPincer_X'][i] - input_2['RightPincer_X'][i])**2 + (input_1['LeftPincer_Y'][i] - input_2['RightPincer_Y'][i])**2)/params['CONVERSION_RATE']\n",
    "        right_side_distance = math.sqrt((input_1['RightPincer_X'][i] - input_2['LeftPincer_X'][i])**2 + (input_1['RightPincer_Y'][i] - input_2['LeftPincer_Y'][i])**2)/params['CONVERSION_RATE']\n",
    "        avg_distance = (left_side_distance + right_side_distance)/2\n",
    "\n",
    "        output_dict['left side distance'].append(left_side_distance)\n",
    "        output_dict['right side distance'].append(right_side_distance)\n",
    "        output_dict['avg distance'].append(avg_distance)\n",
    "\n",
    "        if left_side_distance < params['FIGHTING_THRESHOLD'] and right_side_distance < params['FIGHTING_THRESHOLD']:\n",
    "            output_dict['fighting'].append(1)\n",
    "        else:\n",
    "            output_dict['fighting'].append(0)\n",
    "\n",
    "        # count fighting events\n",
    "        if i == 0:\n",
    "            continue\n",
    "        if output_dict['fighting'][i] == 1 and output_dict['fighting'][i-1] == 0:\n",
    "            start_point = i\n",
    "        elif output_dict['fighting'][i] == 0 and output_dict['fighting'][i-1] == 1:\n",
    "            end_point = i\n",
    "            output_dict['fighting events'][(start_point, end_point-1)] = end_point - start_point\n",
    "\n",
    "    output_dict['fighting events count'] = len(output_dict['fighting events'])\n",
    "    output_dict['fighting time in frames'] = np.sum(output_dict['fighting'])\n",
    "    output_dict['fighting time in seconds'] = output_dict['fighting time in frames']/params['FPS']\n",
    "    output_dict['fighting time percentage'] = np.sum(output_dict['fighting'])/len(output_dict['fighting'])*100\n",
    "    output_dict['longest fighting time in seconds'] = max(output_dict['fighting events'].values())/params['FPS']\n",
    "\n",
    "    return output_dict\n",
    "    "
   ]
  },
  {
   "cell_type": "code",
   "execution_count": null,
   "metadata": {},
   "outputs": [],
   "source": [
    "s6 = fighting_stat(CF1, CF2)"
   ]
  },
  {
   "attachments": {},
   "cell_type": "markdown",
   "metadata": {},
   "source": [
    "### 5. Chasing behavior"
   ]
  },
  {
   "cell_type": "code",
   "execution_count": null,
   "metadata": {},
   "outputs": [],
   "source": [
    "def chasing_stat(chaser, chased):\n",
    "    output_dict = {}\n",
    "\n",
    "    output_dict['distance'] = []  # distance from chaser Rostrum to chased Telson in cm\n",
    "    output_dict['chasing'] = []\n",
    "    output_dict['chasing events'] = {}\n",
    "\n",
    "    for i in range(FRAMES):\n",
    "        # distance = (SQRT((C4-E4)^2+(D4-F4)^2)/$A$4)\n",
    "        distance = math.sqrt((chaser['Rostrum_X'][i] - chased['Telson_X'][i])**2 + (chaser['Rostrum_Y'][i] - chased['Telson_Y'][i])**2)/params['CONVERSION_RATE']\n",
    "        output_dict['distance'].append(distance)\n",
    "\n",
    "        if distance < params['CHASING_THRESHOLD']:\n",
    "            output_dict['chasing'].append(1)\n",
    "        else:\n",
    "            output_dict['chasing'].append(0)\n",
    "\n",
    "        # count chasing events\n",
    "        if i == 0:\n",
    "            continue\n",
    "        if output_dict['chasing'][i] == 1 and output_dict['chasing'][i-1] == 0:\n",
    "            start_point = i\n",
    "        elif output_dict['chasing'][i] == 0 and output_dict['chasing'][i-1] == 1:\n",
    "            end_point = i\n",
    "            output_dict['chasing events'][(start_point, end_point-1)] = end_point - start_point\n",
    "\n",
    "    output_dict['avg distance'] = np.mean(output_dict['distance'])\n",
    "    output_dict['closest distance'] = np.min(output_dict['distance'])\n",
    "    output_dict['furthest distance'] = np.max(output_dict['distance'])\n",
    "    output_dict['chasing duration percentage'] = np.sum(output_dict['chasing'])/len(output_dict['chasing'])*100\n",
    "    output_dict['longest chasing event'] = max(output_dict['chasing events'].values())/params['FPS']\n",
    "\n",
    "    return output_dict"
   ]
  },
  {
   "cell_type": "code",
   "execution_count": null,
   "metadata": {},
   "outputs": [],
   "source": [
    "s7 = chasing_stat(chaser = CF1, chased = CF2)\n",
    "s8 = chasing_stat(CF2, CF1)"
   ]
  },
  {
   "cell_type": "code",
   "execution_count": null,
   "metadata": {},
   "outputs": [],
   "source": [
    "s8['chasing duration percentage']"
   ]
  },
  {
   "cell_type": "code",
   "execution_count": null,
   "metadata": {},
   "outputs": [],
   "source": [
    "def draw_graph(name, target = 'CF1', dataframe1 = CF1, dataframe2 = CF2, width = 20, height = 8):\n",
    "    # set style\n",
    "    plt.rcParams['figure.figsize'] = [width, height]\n",
    "    plt.rcParams[\"font.family\"] = \"Times New Roman\"\n",
    "    plt.rcParams['ytick.labelsize'] = 15\n",
    "    plt.rcParams['xtick.labelsize'] = 20\n",
    "    plt.rcParams['axes.labelsize'] = 20\n",
    "    plt.rcParams['axes.titlesize'] = 20\n",
    "    plt.rcParams['legend.fontsize'] = 15\n",
    "    plt.rcParams['lines.linewidth'] = 2\n",
    "    plt.rcParams['lines.markersize'] = 10\n",
    "    plt.rcParams['axes.grid'] = True\n",
    "    plt.rcParams['grid.linestyle'] = '--'\n",
    "    plt.rcParams['grid.linewidth'] = 0.5\n",
    "\n",
    "    #target is either CF1 or CF2\n",
    "    assert target == 'CF1' or target == 'CF2', 'target must be either CF1 or CF2'\n",
    "    if target == 'CF1':\n",
    "        target_df = CF1\n",
    "    else:\n",
    "        target_df = CF2\n",
    "\n",
    "    if name == 'cheliped':\n",
    "        target_dict = cheliped_stat(target_df)\n",
    "        # plot distance to frames\n",
    "        plt.plot(target_dict['distance'])\n",
    "        plt.xlabel('Frames')\n",
    "        plt.ylabel('Distance (cm)')\n",
    "        plt.title('Distance between left and right pincers of ' + target)\n",
    "    \n",
    "    elif name == 'rostrum':\n",
    "        target_dict = interaction_stat()\n",
    "        # plot distance to frames\n",
    "        plt.plot(target_dict['distance'])\n",
    "        plt.xlabel('Frames')\n",
    "        plt.ylabel('Distance (cm)')\n",
    "        plt.title('Distance between two crayfishes')\n",
    "\n",
    "    elif name == 'fighting':\n",
    "        target_dict = fighting_stat()\n",
    "        # plot average distance to frames\n",
    "        plt.plot(target_dict['avg distance'])\n",
    "        plt.xlabel('Frames')\n",
    "        plt.ylabel('Distance (cm)')\n",
    "        plt.title('Average distance between two crayfishes')\n",
    "\n",
    "    elif name == 'chasing':\n",
    "        if target == 'CF1':\n",
    "            chaser = dataframe1\n",
    "            chased = dataframe2\n",
    "        else:\n",
    "            chaser = dataframe2\n",
    "            chased = dataframe1\n",
    "        target_dict = chasing_stat(target_df)\n",
    "        # plot distance to frames\n",
    "        plt.plot(target_dict['distance'])\n",
    "        plt.xlabel('Frames')\n",
    "        plt.ylabel('Distance (cm)')\n",
    "        chaser_num = target.split('CF')[1]\n",
    "        chased_num = '2' if chaser_num == '1' else '1'\n",
    "        plt.title(f\"Distance between Rostrum of CrayFish {chaser_num} and Telson of Crayfish {chased_num}\")\n",
    "\n",
    "\n",
    "    plt.show()\n"
   ]
  },
  {
   "cell_type": "code",
   "execution_count": null,
   "metadata": {},
   "outputs": [],
   "source": [
    "draw_graph('chasing', target = 'CF1', width = 20, height = 8)"
   ]
  },
  {
   "attachments": {},
   "cell_type": "markdown",
   "metadata": {},
   "source": [
    "# MAKE .BAT FILE TO INSTALL REQUIREMENTS"
   ]
  },
  {
   "cell_type": "code",
   "execution_count": null,
   "metadata": {},
   "outputs": [],
   "source": [
    "# write a .bat file to run pip install -r requirements.txt\n",
    "with open('install.bat', 'w') as f:\n",
    "    f.write('pip install -r requirements.txt')\n"
   ]
  },
  {
   "attachments": {},
   "cell_type": "markdown",
   "metadata": {},
   "source": [
    "# TESTING BATCH ANALYSING FUNCTION"
   ]
  },
  {
   "cell_type": "code",
   "execution_count": 1,
   "metadata": {},
   "outputs": [],
   "source": [
    "import os\n",
    "from Libs.functions import *\n",
    "\n",
    "import_file_paths = select_excel()\n"
   ]
  },
  {
   "cell_type": "code",
   "execution_count": 2,
   "metadata": {},
   "outputs": [
    {
     "name": "stdout",
     "output_type": "stream",
     "text": [
      "Analyzing 1.xlsx...\n",
      "CF1 has no NaN\n",
      "CF2 has no NaN\n",
      "Analyzing excel2.xlsx...\n",
      "CF1 has no NaN\n",
      "CF2 has no NaN\n",
      "No chasing event found\n"
     ]
    }
   ],
   "source": [
    "abc = Analyzer(import_file_paths)"
   ]
  },
  {
   "cell_type": "code",
   "execution_count": 3,
   "metadata": {},
   "outputs": [
    {
     "name": "stderr",
     "output_type": "stream",
     "text": [
      "c:\\Code\\Michael\\CrayfishBehavior\\Libs\\functions.py:591: FutureWarning: save is not part of the public API, usage can give in unexpected results and will be removed in a future version\n",
      "  writer.save()\n"
     ]
    }
   ],
   "source": [
    "abc.export_excel()"
   ]
  },
  {
   "cell_type": "code",
   "execution_count": null,
   "metadata": {},
   "outputs": [],
   "source": [
    "# tasks = ['pincer', 'movement', 'interaction', 'fighting', 'chasing']\n",
    "# targets = ['CF1', 'CF2']\n",
    "output_df, sheet_name = abc.group_df('movement', 'CF1', 'total distance')"
   ]
  },
  {
   "attachments": {},
   "cell_type": "markdown",
   "metadata": {},
   "source": [
    "# MAKE A JSON FILE OF STATS_NEEDED"
   ]
  },
  {
   "cell_type": "code",
   "execution_count": null,
   "metadata": {},
   "outputs": [],
   "source": [
    "stats_needed = {\n",
    "    'pincer': ['EC percentage', 'total EC time'],\n",
    "    'movement': ['total distance', 'avg speed', 'freeze time percentage', 'swimming time percentage', 'rapid movements time percentage', 'avg distance to center'],\n",
    "    'interaction': ['interactions percentage', 'interaction events percentage', 'longest duration'],\n",
    "    'fighting': ['fighting time in seconds', 'fighting time percentage', 'longest fighting time in seconds'],\n",
    "    'chasing': ['chasing duration percentage', 'longest chasing event']\n",
    "}\n",
    "\n",
    "import json\n",
    "\n",
    "# export stats_needed to json file\n",
    "with open('Bin/stats_needed.json', 'w') as f:\n",
    "    json.dump(stats_needed, f, indent = 4)    "
   ]
  },
  {
   "attachments": {},
   "cell_type": "markdown",
   "metadata": {},
   "source": [
    "# MAKE A JSON FILE OF ALL_STATS"
   ]
  },
  {
   "cell_type": "code",
   "execution_count": null,
   "metadata": {},
   "outputs": [],
   "source": [
    "from Libs.functions import *\n",
    "\n",
    "df_path = select_excel()\n",
    "df = pd.read_excel(df_path)\n",
    "CF1, CF2 = load_df(df)\n",
    "\n",
    "PARAMS_PATH = 'Bin/parameters.json'\n",
    "params = load_params(PARAMS_PATH)\n",
    "\n",
    "s1 = cheliped_stat(CF1, params)\n",
    "s3 = movement_stat(CF1, params)\n",
    "s5 = interaction_stat(CF1, CF2, params)\n",
    "s6 = fighting_stat(CF1, CF2, params)\n",
    "s7 = chasing_stat(CF1, CF2, params)\n",
    "\n",
    "key_dict = {\n",
    "    'pincer': list(s1.keys()),\n",
    "    'movement': list(s3.keys()),\n",
    "    'interaction': list(s5.keys()),\n",
    "    'fighting': list(s6.keys()),\n",
    "    'chasing': list(s7.keys())\n",
    "}\n",
    "\n",
    "# export key_dict to json file\n",
    "with open('Bin/all_stats.json', 'w') as f:\n",
    "    json.dump(key_dict, f, indent = 4)"
   ]
  },
  {
   "cell_type": "code",
   "execution_count": null,
   "metadata": {},
   "outputs": [],
   "source": []
  }
 ],
 "metadata": {
  "kernelspec": {
   "display_name": "myenv",
   "language": "python",
   "name": "python3"
  },
  "language_info": {
   "codemirror_mode": {
    "name": "ipython",
    "version": 3
   },
   "file_extension": ".py",
   "mimetype": "text/x-python",
   "name": "python",
   "nbconvert_exporter": "python",
   "pygments_lexer": "ipython3",
   "version": "3.9.13"
  },
  "orig_nbformat": 4,
  "vscode": {
   "interpreter": {
    "hash": "de1e89af3ef8b17e93d79e53c27fdd6267335e03ee420ef3296d6319bf4dd9be"
   }
  }
 },
 "nbformat": 4,
 "nbformat_minor": 2
}
